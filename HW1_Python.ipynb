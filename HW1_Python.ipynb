{
 "cells": [
  {
   "cell_type": "markdown",
   "metadata": {
    "id": "HpjRBNknn6J6"
   },
   "source": [
    "##### 1. Файлик\n",
    "Сгенерируйте случайный файл размера 100'000 символов (символ - строчная буква английского алфавита) в формате .txt , затем найдите в нем наибольшую по длине последовательность из одинаковых символов."
   ]
  },
  {
   "cell_type": "code",
   "execution_count": null,
   "metadata": {
    "id": "djN5WaVbn4P5"
   },
   "outputs": [],
   "source": [
    "import random\n",
    "import string\n",
    "\n",
    "def gen_file(filename, size=100_000):\n",
    "  with open(filename, \"w\") as file:\n",
    "    file.write(\"\".join(random.choices(string.ascii_lowercase, k=size)))\n",
    "\n",
    "def find_longest_seq(filename, chunk_size=1000):\n",
    "  max_len = 0\n",
    "  cur_len = 0\n",
    "  prev_char = \"\"\n",
    "\n",
    "  with open(filename, \"r\") as file:\n",
    "    while chunk := file.read(chunk_size):\n",
    "      for char in chunk:\n",
    "        if char == prev_char:\n",
    "          cur_len += 1\n",
    "        else:\n",
    "          max_len = max(max_len, cur_len)\n",
    "          cur_len = 1\n",
    "          prev_char = char\n",
    "\n",
    "  max_len = max(max_len, cur_len)\n",
    "  return max_len\n",
    "\n",
    "filename = \"file.txt\"\n",
    "\n",
    "gen_file(filename)\n",
    "max_seq = find_longest_seq(filename)\n",
    "print(\"Max sequance:\", max_seq)"
   ]
  },
  {
   "cell_type": "markdown",
   "metadata": {
    "id": "dG7HvP-bn8vS"
   },
   "source": [
    "##### 2. Последовательности\n",
    "Для этого же файла посчитайте долю встречаемых последовательностей из тех же символов длины K. Пример: K=1, есть все символы от a до x, но нет y и z, тогда ответ 24/26."
   ]
  },
  {
   "cell_type": "code",
   "execution_count": null,
   "metadata": {
    "id": "_CLgxeyXn9DC"
   },
   "outputs": [],
   "source": [
    "def count_sequences(filename, k, chunk_size=1000):\n",
    "  seen_chars = set()\n",
    "  current_len = 0\n",
    "  prev_char = \"\"\n",
    "\n",
    "  with open(filename, \"r\") as file:\n",
    "    while chunk := file.read(chunk_size):\n",
    "      for char in chunk:\n",
    "        if char == prev_char:\n",
    "          current_len += 1\n",
    "        else:\n",
    "          if current_len == k:\n",
    "            seen_chars.add(prev_char)\n",
    "          current_len = 1\n",
    "          prev_char = char\n",
    "\n",
    "  if current_len == k:\n",
    "    seen_chars.add(prev_char)\n",
    "\n",
    "  return len(seen_chars) / 26\n",
    "\n",
    "k = 5\n",
    "\n",
    "ratio = count_sequences(filename, k)\n",
    "print(f\"Proportion of encountered sequences {k}: {ratio:.4f}\")"
   ]
  },
  {
   "cell_type": "markdown",
   "metadata": {
    "id": "cFnYEo5Nn9M4"
   },
   "source": [
    "##### 3. Перестановки\n",
    "Считайте с потока ввода N, затем массив из N чисел. Найдите все уникальные его перестановки и выведите их."
   ]
  },
  {
   "cell_type": "code",
   "execution_count": null,
   "metadata": {
    "id": "Lx1StM9bn9b9"
   },
   "outputs": [],
   "source": [
    "import itertools\n",
    "\n",
    "N = int(input().strip())\n",
    "arr = list(map(int, input().split()))\n",
    "\n",
    "unique_permutations = sorted(set(itertools.permutations(arr)))\n",
    "\n",
    "for perm in unique_permutations:\n",
    "  print(*perm)"
   ]
  },
  {
   "cell_type": "markdown",
   "metadata": {
    "id": "t_btHbtTn9o1"
   },
   "source": [
    "##### 4. Мощный hash\n",
    "Придумайте функцию хеширования для структуры List, если в нем могут быть только числа, строки и другие List'ы."
   ]
  },
  {
   "cell_type": "code",
   "execution_count": null,
   "metadata": {
    "id": "8Y2wMKN4n96Q"
   },
   "outputs": [],
   "source": [
    "def hash_list(lst):\n",
    "  if not isinstance(lst, list):\n",
    "    return hash(lst)\n",
    "    \n",
    "  return hash(tuple(hash_list(item) for item in lst))"
   ]
  },
  {
   "cell_type": "markdown",
   "metadata": {
    "id": "xPx6zHp2n-CX"
   },
   "source": [
    "##### 5. ООП. Начало\n",
    "Напишите класс, который содержит только уникальные элементы, а также позволяет за O(1) от элемента X (если он есть в множестве) переходить к большему или меньшему."
   ]
  },
  {
   "cell_type": "code",
   "execution_count": null,
   "metadata": {
    "id": "1Dqdj-NIn-Si"
   },
   "outputs": [],
   "source": [
    "class UniqueSet:\n",
    "  def __init__(self):\n",
    "    self.elements = set()\n",
    "    self.smaller = {}\n",
    "    self.larger = {}\n",
    "\n",
    "  def add(self, x):\n",
    "    if x not in self.elements:\n",
    "      self.elements.add(x)\n",
    "      smaller_element = None\n",
    "      larger_element = None\n",
    "            \n",
    "      for elem in self.elements:\n",
    "        if elem < x:\n",
    "          smaller_element = elem\n",
    "        if elem > x:\n",
    "          larger_element = elem\n",
    "\n",
    "      self.smaller[x] = smaller_element\n",
    "      self.larger[x] = larger_element\n",
    "\n",
    "  def get_smaller(self, x):\n",
    "    return self.smaller.get(x, None)\n",
    "\n",
    "  def get_larger(self, x):\n",
    "    return self.larger.get(x, None)"
   ]
  },
  {
   "cell_type": "markdown",
   "metadata": {
    "id": "YMd0IFvzn-ac"
   },
   "source": [
    "##### 6. Gen code 1\n",
    "Считайте с потока ввода N, затем N лямбда функций в формате строк. Затем считайте 1 строку некоторого выражения из данных лямбда функций в формате f{i} (то есть первая лямбда функция имеет название f1, вторая f2 и тд) и посчитайте его значение."
   ]
  },
  {
   "cell_type": "code",
   "execution_count": null,
   "metadata": {
    "id": "TDX7gudJn-ra"
   },
   "outputs": [],
   "source": [
    "n = int(input())\n",
    "functions = {}\n",
    "\n",
    "for i in range(1, n + 1):\n",
    "  func_str = input().strip()\n",
    "  functions[f'f{i}'] = eval(f'lambda x: {func_str}')\n",
    "\n",
    "expression = input().strip()\n",
    "x_value = float(input())\n",
    "\n",
    "def evaluate(expr, x):\n",
    "  namespace = {'x': x}\n",
    "  namespace.update(functions)\n",
    "  return eval(expr, namespace)\n",
    "\n",
    "result = evaluate(expression, x_value)\n",
    "print(result)"
   ]
  },
  {
   "cell_type": "markdown",
   "metadata": {
    "id": "i9QYqaC0n-zE"
   },
   "source": [
    "##### 7. Gen code 2\n",
    "Аналогично задаче 6, но теперь вместо однострочных лямбда функций будет N многострочных функций, разделителем между которыми будет строка [SEP]. В конце также будет выражение в формате аналогично задаче 6."
   ]
  },
  {
   "cell_type": "code",
   "execution_count": null,
   "metadata": {
    "id": "9G8oRLfQn_XA"
   },
   "outputs": [],
   "source": [
    "N = int(input())\n",
    "funcs = []\n",
    "cur_func = []\n",
    "sep = \"[SEP]\"\n",
    "\n",
    "for _ in range(N):\n",
    "  while True:\n",
    "    line = input()\n",
    "    if line == sep:\n",
    "      break\n",
    "    cur_func.append(line)\n",
    "  func_str = '\\n'.join(cur_func).strip()\n",
    "  funcs.append(func_str)\n",
    "  cur_func = []\n",
    "\n",
    "expr = input().strip()\n",
    "\n",
    "func_dict = {}\n",
    "for i in range(1, N+1):\n",
    "  func_name = f\"f{i}\"\n",
    "  exec(functions[i-1], globals())\n",
    "  func_dict[func_name] = eval(func_name)\n",
    "\n",
    "safe_dict = {**func_dict, 'x': None}\n",
    "\n",
    "try:\n",
    "  result = eval(expr, {\"__builtins__\": None}, safe_dict)\n",
    "  print(result)\n",
    "except Exception as e:\n",
    "  print(f\"Error: {e}\")"
   ]
  },
  {
   "cell_type": "markdown",
   "metadata": {
    "id": "GCqCY1tjn_im"
   },
   "source": [
    "##### 8. Что то интересное\n",
    "Напишите функцию, которая принимает именованные аргументы N, A, B, D, которая генерирует массив вещественных чисел размера N от A до B, с дисперсией D. Отсортируйте его и визуализируйте. Сделайте выводы"
   ]
  },
  {
   "cell_type": "code",
   "execution_count": null,
   "metadata": {
    "id": "2bdzsVU3n_yv"
   },
   "outputs": [],
   "source": [
    "import numpy as np\n",
    "import matplotlib.pyplot as plt\n",
    "\n",
    "def gen_and_visualize(N, A, B, D):\n",
    "  mean = (A + B) / 2\n",
    "  std_dev = np.sqrt(D)\n",
    "    \n",
    "  data = np.random.normal(loc=mean, scale=std_dev, size=N)\n",
    "  data = np.clip(data, A, B)\n",
    "    \n",
    "  cur_var = np.var(data)\n",
    "  if cur_var < D:\n",
    "    scale_factor = np.sqrt(D / cur_var)\n",
    "    data = mean + (data - mean) * scale_factor\n",
    "    data = np.clip(data, A, B)\n",
    "    \n",
    "  sorted_data = np.sort(data)\n",
    "    \n",
    "  plt.figure(figsize=(10, 6))\n",
    "  plt.plot(sorted_data, 'b-', label=f\"Data (N={N}, A={A}, B={B}, D={D:.2f})\")\n",
    "  plt.xlabel(\"Index (sorted)\")\n",
    "  plt.ylabel(\"Value\")\n",
    "  plt.title(\"Sorted array with target variance\")\n",
    "  plt.legend()\n",
    "  plt.grid(True)\n",
    "  plt.show()\n",
    "    \n",
    "  print(\"Statistics:\")\n",
    "  print(f\" - Min: {np.min(sorted_data):.2f}\")\n",
    "  print(f\" - Max: {np.max(sorted_data):.2f}\")\n",
    "  print(f\" - Mean: {np.mean(sorted_data):.2f}\")\n",
    "  print(f\" - Variance: {np.var(sorted_data):.2f}\")\n",
    "  print(f\" - Std dev: {np.std(sorted_data):.2f}\")\n",
    "\n",
    "N = int(input())\n",
    "A = float(input())\n",
    "B = float(input())\n",
    "D = float(input())\n",
    "\n",
    "gen_and_visualize(N, A, B, D)"
   ]
  }
 ],
 "metadata": {
  "colab": {
   "provenance": [],
   "toc_visible": true
  },
  "kernelspec": {
   "display_name": "Python 3 (ipykernel)",
   "language": "python",
   "name": "python3"
  },
  "language_info": {
   "codemirror_mode": {
    "name": "ipython",
    "version": 3
   },
   "file_extension": ".py",
   "mimetype": "text/x-python",
   "name": "python",
   "nbconvert_exporter": "python",
   "pygments_lexer": "ipython3",
   "version": "3.12.7"
  }
 },
 "nbformat": 4,
 "nbformat_minor": 4
}
